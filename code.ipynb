{
 "cells": [
  {
   "attachments": {},
   "cell_type": "markdown",
   "metadata": {
    "id": "jVT56VBvy45H"
   },
   "source": [
    "# Handwritten Characters Classification"
   ]
  },
  {
   "attachments": {},
   "cell_type": "markdown",
   "metadata": {
    "id": "lESZh8sUzWW7"
   },
   "source": [
    "## Import Packages"
   ]
  },
  {
   "cell_type": "code",
   "execution_count": 1,
   "metadata": {
    "colab": {
     "base_uri": "https://localhost:8080/"
    },
    "id": "COqO0jYvwuWB",
    "outputId": "b426da8f-4df2-41d0-9eae-0fe05957f938"
   },
   "outputs": [
    {
     "name": "stdout",
     "output_type": "stream",
     "text": [
      "Looking in indexes: https://pypi.org/simple, https://us-python.pkg.dev/colab-wheels/public/simple/\n",
      "Collecting keras-tuner\n",
      "  Downloading keras_tuner-1.3.5-py3-none-any.whl (176 kB)\n",
      "\u001b[2K     \u001b[90m━━━━━━━━━━━━━━━━━━━━━━━━━━━━━━━━━━━━━━\u001b[0m \u001b[32m176.1/176.1 kB\u001b[0m \u001b[31m16.2 MB/s\u001b[0m eta \u001b[36m0:00:00\u001b[0m\n",
      "\u001b[?25hRequirement already satisfied: packaging in /usr/local/lib/python3.10/dist-packages (from keras-tuner) (23.1)\n",
      "Requirement already satisfied: requests in /usr/local/lib/python3.10/dist-packages (from keras-tuner) (2.27.1)\n",
      "Collecting kt-legacy (from keras-tuner)\n",
      "  Downloading kt_legacy-1.0.5-py3-none-any.whl (9.6 kB)\n",
      "Requirement already satisfied: urllib3<1.27,>=1.21.1 in /usr/local/lib/python3.10/dist-packages (from requests->keras-tuner) (1.26.15)\n",
      "Requirement already satisfied: certifi>=2017.4.17 in /usr/local/lib/python3.10/dist-packages (from requests->keras-tuner) (2022.12.7)\n",
      "Requirement already satisfied: charset-normalizer~=2.0.0 in /usr/local/lib/python3.10/dist-packages (from requests->keras-tuner) (2.0.12)\n",
      "Requirement already satisfied: idna<4,>=2.5 in /usr/local/lib/python3.10/dist-packages (from requests->keras-tuner) (3.4)\n",
      "Installing collected packages: kt-legacy, keras-tuner\n",
      "Successfully installed keras-tuner-1.3.5 kt-legacy-1.0.5\n"
     ]
    }
   ],
   "source": [
    "import zipfile\n",
    "import pickle\n",
    "from sklearn.decomposition import PCA\n",
    "from sklearn.neighbors import KNeighborsClassifier\n",
    "from sklearn.model_selection import StratifiedKFold\n",
    "from sklearn.model_selection import GridSearchCV\n",
    "from sklearn.metrics import accuracy_score, f1_score, recall_score, precision_score, classification_report\n",
    "from sklearn.metrics import precision_recall_fscore_support\n",
    "import time\n",
    "from sklearn.ensemble import RandomForestClassifier\n",
    "import numpy as np\n",
    "import pandas as pd\n",
    "import matplotlib.pyplot as plt\n",
    "from collections import Counter\n",
    "import tensorflow as tf\n",
    "from tensorflow.keras.models import Sequential\n",
    "from tensorflow.keras.layers import Dense, Dropout, BatchNormalization, Activation\n",
    "from tensorflow.keras.optimizers import AdamW\n",
    "from tensorflow.keras.losses import SparseCategoricalCrossentropy\n",
    "from tensorflow.keras.callbacks import EarlyStopping\n",
    "import matplotlib.pyplot as plt\n",
    "from sklearn.model_selection import train_test_split\n",
    "try:\n",
    "  import keras_tuner as kt\n",
    "except:\n",
    "  !pip install keras-tuner --upgrade\n",
    "  import keras_tuner as kt\n",
    "import warnings\n",
    "warnings.filterwarnings('ignore')"
   ]
  },
  {
   "attachments": {},
   "cell_type": "markdown",
   "metadata": {
    "id": "nyPJGfbmzdUg"
   },
   "source": [
    "## Load Dataset"
   ]
  },
  {
   "cell_type": "code",
   "execution_count": null,
   "metadata": {
    "id": "p8t3Nv_wrY4E"
   },
   "outputs": [],
   "source": [
    "# Function for download the dataset\n",
    "def load_dataset():\n",
    "  with zipfile.ZipFile('EMNIST_Byclass_Small.zip', 'r') as zip_file:\n",
    "    # Unzip the zip file and extract all files into the current directory\n",
    "    zip_file.extractall()\n",
    "\n",
    "    # Open the train dataset\n",
    "    with open('emnist_train.pkl', 'rb') as train_pkl:\n",
    "      train_dataset = pickle.load(train_pkl)\n",
    "\n",
    "    # Open the test dataset\n",
    "    with open('emnist_test.pkl', 'rb') as test_pkl:\n",
    "      test_dataset = pickle.load(test_pkl)\n",
    "      \n",
    "    return train_dataset, test_dataset"
   ]
  },
  {
   "cell_type": "code",
   "execution_count": null,
   "metadata": {
    "colab": {
     "base_uri": "https://localhost:8080/"
    },
    "id": "Gbq2_dwZFnFf",
    "outputId": "726694bf-9d31-4869-91b0-b654397f52ca"
   },
   "outputs": [
    {
     "name": "stdout",
     "output_type": "stream",
     "text": [
      "Training data shape: (100000, 28, 28) Training label shape: (100000,)\n",
      "Testing data shape: (20000, 28, 28) Testing label shape: (20000,)\n"
     ]
    }
   ],
   "source": [
    "# Extract training and test dataset\n",
    "train_dataset, test_dataset = load_dataset()\n",
    "\n",
    "# Split the training and test set into data and labels\n",
    "X_train, y_train = train_dataset[\"data\"], train_dataset[\"labels\"]\n",
    "X_test, y_test = test_dataset[\"data\"], test_dataset[\"labels\"]\n",
    "\n",
    "print(\"Training data shape:\", X_train.shape, \"Training label shape:\", y_train.shape)\n",
    "print(\"Testing data shape:\", X_test.shape, \"Testing label shape:\", y_test.shape)"
   ]
  },
  {
   "attachments": {},
   "cell_type": "markdown",
   "metadata": {
    "id": "tR0yDI6HzogE"
   },
   "source": [
    "## Dataset pre-processing"
   ]
  },
  {
   "cell_type": "code",
   "execution_count": null,
   "metadata": {
    "colab": {
     "base_uri": "https://localhost:8080/",
     "height": 411
    },
    "id": "o9i0E44ZJn-b",
    "outputId": "bcc9bdad-47fc-46d1-e23f-c14384d19478"
   },
   "outputs": [
    {
     "data": {
      "image/png": "[encoded data removed]",
      "text/plain": [
       "<Figure size 600x400 with 1 Axes>"
      ]
     },
     "metadata": {},
     "output_type": "display_data"
    }
   ],
   "source": [
    "\"\"\"Explore the feasibility of performing PCA for dimension reduction\"\"\"\n",
    "\n",
    "# Principal component analysis\n",
    "pca = PCA()\n",
    "pca.fit(X_train.reshape(-1, X_train.shape[1] * X_train.shape[2]))\n",
    "cumsum = np.cumsum(pca.explained_variance_ratio_)\n",
    "\n",
    "# Plot the explained variance vs number of dimensions\n",
    "plt.figure(figsize = (6,4))\n",
    "plt.plot(cumsum, linewidth=3)\n",
    "plt.axis([0, 784, 0, 1]) \n",
    "plt.xlabel(\"dimensions\")\n",
    "plt.ylabel(\"explained variance\")\n",
    "plt.grid(True)\n",
    "\n",
    "# Add red dot and display the number of dimensions for explained variance = 0.95\n",
    "idx = np.argwhere(cumsum >= 0.95)[0][0]\n",
    "plt.plot(idx, cumsum[idx], 'ro')\n",
    "plt.annotate(f\"{idx}\", (idx, cumsum[idx]), (idx+20, cumsum[idx]+0.05), \n",
    "             arrowprops=dict(arrowstyle=\"->\", connectionstyle=\"arc3,rad=.2\"))\n",
    "\n",
    "# Add red dot and display the number of dimensions for explained variance = 0.99\n",
    "idx1 = np.argwhere(cumsum >= 0.99)[0][0]\n",
    "plt.plot(idx1, cumsum[idx1], 'ro')\n",
    "plt.annotate(f\"{idx1}\", (idx1, cumsum[idx1]), (idx1+20, cumsum[idx1]+0.05), \n",
    "             arrowprops=dict(arrowstyle=\"->\", connectionstyle=\"arc3,rad=.2\"))\n",
    "\n",
    "plt.show()"
   ]
  },
  {
   "cell_type": "code",
   "execution_count": null,
   "metadata": {
    "id": "1K-12gGCFnLo"
   },
   "outputs": [],
   "source": [
    "# Function for dataset pre-processing\n",
    "def preprocessing(X_train, X_test):\n",
    "    # Reshape / flatten the data into 1 dimension\n",
    "    X_train = X_train.reshape(-1, X_train.shape[1] * X_train.shape[2])\n",
    "    X_test = X_test.reshape(-1, X_test.shape[1] * X_test.shape[2])\n",
    "\n",
    "    # Normalize the data\n",
    "    X_train_norm = X_train / 255\n",
    "    X_test_norm = X_test / 255\n",
    "\n",
    "    # Dimensional reduction using PCA\n",
    "    pca = PCA(n_components=0.99)\n",
    "    # Fit PCA with training data\n",
    "    pca.fit(X_train_norm)\n",
    "\n",
    "    # Transform training and testing data using the same PCA instance\n",
    "    X_train_pca = pca.transform(X_train_norm)\n",
    "    X_test_pca = pca.transform(X_test_norm)\n",
    "\n",
    "    return X_train_pca, X_test_pca"
   ]
  },
  {
   "cell_type": "code",
   "execution_count": null,
   "metadata": {
    "colab": {
     "base_uri": "https://localhost:8080/"
    },
    "id": "VeAbAR2XzuYs",
    "outputId": "8c05f546-f22f-48a9-fbbc-f3bca794004d"
   },
   "outputs": [
    {
     "name": "stdout",
     "output_type": "stream",
     "text": [
      "After pre-processing:\n",
      "Train data shape: (100000, 259) Testing data shape: (20000, 259)\n"
     ]
    }
   ],
   "source": [
    "# Preprocess the image data\n",
    "X_train, X_test = preprocessing(X_train, X_test)\n",
    "print(\"After pre-processing:\")\n",
    "print(\"Train data shape:\", X_train.shape, \"Testing data shape:\", X_test.shape)"
   ]
  },
  {
   "attachments": {},
   "cell_type": "markdown",
   "metadata": {
    "id": "zIR64pWiz8XW"
   },
   "source": [
    "## k-Nearest Neighbour"
   ]
  },
  {
   "attachments": {},
   "cell_type": "markdown",
   "metadata": {
    "id": "q5cjq8Go4oNK"
   },
   "source": [
    "### Hyperparameter Tuning for kNN (Long runtime: **Approximately 4.14 hours**)"
   ]
  },
  {
   "cell_type": "code",
   "execution_count": null,
   "metadata": {
    "id": "GlwJNj9Z0Nkg"
   },
   "outputs": [],
   "source": [
    "\"\"\"Do not run - long runtime\"\"\"\n",
    "\n",
    "# Hyperparameter tuning for kNN using Grid Search CV\n",
    "def KNNClassifier_GridSearchCV(X_train, y_train):\n",
    "\n",
    "    # Set up parameters grid to search \n",
    "    param_grid = {'n_neighbors': [1, 3, 5, 7, 9],\n",
    "                  'p': [1, 2]\n",
    "                  }\n",
    "    # Setting the 5 fold stratified cross-validation\n",
    "    cvKFold=StratifiedKFold(n_splits=5, shuffle=True, random_state=0)\n",
    "\n",
    "    # Instantiate knn model\n",
    "    knn = KNeighborsClassifier()\n",
    "    grid_search = GridSearchCV(knn, param_grid, scoring='f1_weighted', cv=cvKFold, verbose=3)\n",
    "\n",
    "    # Record the starting time\n",
    "    start_time = time.time()\n",
    "\n",
    "    # Fit the training data\n",
    "    grid_search.fit(X_train, y_train)\n",
    "\n",
    "    # Calculate the training time\n",
    "    time_elapsed = time.time() - start_time\n",
    "\n",
    "    best_params = grid_search.best_params_\n",
    "    best_score = grid_search.best_score_\n",
    "\n",
    "    print(\"Best parameters found: \", best_params)\n",
    "    print(\"Best accuracy found: \", best_score)\n",
    "    print(\"Time elapsed: {:.2f} seconds\".format(time_elapsed))\n",
    "\n",
    "    return best_params\n"
   ]
  },
  {
   "cell_type": "code",
   "execution_count": null,
   "metadata": {
    "colab": {
     "base_uri": "https://localhost:8080/"
    },
    "id": "yMK_S1670Nh7",
    "outputId": "4aa39824-a399-46e0-f24c-c737eb240e34"
   },
   "outputs": [
    {
     "name": "stdout",
     "output_type": "stream",
     "text": [
      "Fitting 5 folds for each of 10 candidates, totalling 50 fits\n",
      "[CV 1/5] END ................n_neighbors=1, p=1;, score=0.708 total time=10.0min\n",
      "[CV 2/5] END ................n_neighbors=1, p=1;, score=0.710 total time=10.3min\n",
      "[CV 3/5] END ................n_neighbors=1, p=1;, score=0.711 total time=10.6min\n",
      "[CV 4/5] END ................n_neighbors=1, p=1;, score=0.709 total time= 9.3min\n",
      "[CV 5/5] END ................n_neighbors=1, p=1;, score=0.708 total time= 9.4min\n",
      "[CV 1/5] END ................n_neighbors=1, p=2;, score=0.741 total time=  31.0s\n",
      "[CV 2/5] END ................n_neighbors=1, p=2;, score=0.742 total time=  30.9s\n",
      "[CV 3/5] END ................n_neighbors=1, p=2;, score=0.744 total time=  32.3s\n",
      "[CV 4/5] END ................n_neighbors=1, p=2;, score=0.742 total time=  30.9s\n",
      "[CV 5/5] END ................n_neighbors=1, p=2;, score=0.739 total time=  33.6s\n",
      "[CV 1/5] END ................n_neighbors=3, p=1;, score=0.706 total time= 9.2min\n",
      "[CV 2/5] END ................n_neighbors=3, p=1;, score=0.711 total time= 9.3min\n",
      "[CV 3/5] END ................n_neighbors=3, p=1;, score=0.710 total time= 9.3min\n",
      "[CV 4/5] END ................n_neighbors=3, p=1;, score=0.707 total time= 9.3min\n",
      "[CV 5/5] END ................n_neighbors=3, p=1;, score=0.706 total time= 9.2min\n",
      "[CV 1/5] END ................n_neighbors=3, p=2;, score=0.747 total time=  32.3s\n",
      "[CV 2/5] END ................n_neighbors=3, p=2;, score=0.746 total time=  31.2s\n",
      "[CV 3/5] END ................n_neighbors=3, p=2;, score=0.746 total time=  31.4s\n",
      "[CV 4/5] END ................n_neighbors=3, p=2;, score=0.749 total time=  33.5s\n",
      "[CV 5/5] END ................n_neighbors=3, p=2;, score=0.746 total time=  31.1s\n",
      "[CV 1/5] END ................n_neighbors=5, p=1;, score=0.710 total time= 9.3min\n",
      "[CV 2/5] END ................n_neighbors=5, p=1;, score=0.715 total time= 9.3min\n",
      "[CV 3/5] END ................n_neighbors=5, p=1;, score=0.713 total time= 9.2min\n",
      "[CV 4/5] END ................n_neighbors=5, p=1;, score=0.711 total time= 9.3min\n",
      "[CV 5/5] END ................n_neighbors=5, p=1;, score=0.711 total time= 9.3min\n",
      "[CV 1/5] END ................n_neighbors=5, p=2;, score=0.750 total time=  31.1s\n",
      "[CV 2/5] END ................n_neighbors=5, p=2;, score=0.753 total time=  32.3s\n",
      "[CV 3/5] END ................n_neighbors=5, p=2;, score=0.751 total time=  31.1s\n",
      "[CV 4/5] END ................n_neighbors=5, p=2;, score=0.747 total time=  32.4s\n",
      "[CV 5/5] END ................n_neighbors=5, p=2;, score=0.751 total time=  32.7s\n",
      "[CV 1/5] END ................n_neighbors=7, p=1;, score=0.706 total time= 9.3min\n",
      "[CV 2/5] END ................n_neighbors=7, p=1;, score=0.712 total time= 9.2min\n",
      "[CV 3/5] END ................n_neighbors=7, p=1;, score=0.711 total time= 9.3min\n",
      "[CV 4/5] END ................n_neighbors=7, p=1;, score=0.709 total time= 9.4min\n",
      "[CV 5/5] END ................n_neighbors=7, p=1;, score=0.707 total time= 9.3min\n",
      "[CV 1/5] END ................n_neighbors=7, p=2;, score=0.750 total time=  32.4s\n",
      "[CV 2/5] END ................n_neighbors=7, p=2;, score=0.749 total time=  31.3s\n",
      "[CV 3/5] END ................n_neighbors=7, p=2;, score=0.751 total time=  32.6s\n",
      "[CV 4/5] END ................n_neighbors=7, p=2;, score=0.750 total time=  31.4s\n",
      "[CV 5/5] END ................n_neighbors=7, p=2;, score=0.748 total time=  32.4s\n",
      "[CV 1/5] END ................n_neighbors=9, p=1;, score=0.704 total time= 9.3min\n",
      "[CV 2/5] END ................n_neighbors=9, p=1;, score=0.705 total time= 9.3min\n",
      "[CV 3/5] END ................n_neighbors=9, p=1;, score=0.706 total time= 9.3min\n",
      "[CV 4/5] END ................n_neighbors=9, p=1;, score=0.702 total time= 9.3min\n",
      "[CV 5/5] END ................n_neighbors=9, p=1;, score=0.701 total time= 9.3min\n",
      "[CV 1/5] END ................n_neighbors=9, p=2;, score=0.747 total time=  32.7s\n",
      "[CV 2/5] END ................n_neighbors=9, p=2;, score=0.745 total time=  31.3s\n",
      "[CV 3/5] END ................n_neighbors=9, p=2;, score=0.748 total time=  32.5s\n",
      "[CV 4/5] END ................n_neighbors=9, p=2;, score=0.745 total time=  31.3s\n",
      "[CV 5/5] END ................n_neighbors=9, p=2;, score=0.749 total time=  33.8s\n",
      "Best parameters found:  {'n_neighbors': 5, 'p': 2}\n",
      "Best accuracy found:  0.7504982752775111\n",
      "Time elapsed: 14896.85 seconds\n"
     ]
    }
   ],
   "source": [
    "\"\"\"Do not run - Has a long runtime\"\"\"\n",
    "\n",
    "# Perform Grid Search CV for kNN\n",
    "knn_best_params = KNNClassifier_GridSearchCV(X_train, y_train)"
   ]
  },
  {
   "cell_type": "code",
   "execution_count": null,
   "metadata": {
    "colab": {
     "base_uri": "https://localhost:8080/"
    },
    "id": "x2qaQsWm7YpI",
    "outputId": "2553a93e-b98e-43e4-afa5-51df4757d45d"
   },
   "outputs": [
    {
     "name": "stdout",
     "output_type": "stream",
     "text": [
      "Best parameters for kNN: {'n_neighbors': 5, 'p': 2}\n"
     ]
    }
   ],
   "source": [
    "\"\"\"Long runtime\"\"\"\n",
    "\"\"\"Do not run this code chunk unless the hyperparameter process code chunk has been executed in its entirety \"\"\"\n",
    "\n",
    "# Print out the best parameters for kNN\n",
    "print(\"Best parameters for kNN:\", knn_best_params)"
   ]
  },
  {
   "attachments": {},
   "cell_type": "markdown",
   "metadata": {
    "id": "s1IYwr405hN7"
   },
   "source": [
    "### Build kNN classifier using best hyperparameters\n",
    "\n",
    "\n"
   ]
  },
  {
   "cell_type": "code",
   "execution_count": null,
   "metadata": {
    "colab": {
     "base_uri": "https://localhost:8080/",
     "height": 75
    },
    "id": "bbCiEm720Nfa",
    "outputId": "fd38e91c-262a-4f59-fcbc-8fb311ad6a02"
   },
   "outputs": [
    {
     "data": {
      "text/html": [
       "<style>#sk-container-id-1 {color: black;background-color: white;}#sk-container-id-1 pre{padding: 0;}#sk-container-id-1 div.sk-toggleable {background-color: white;}#sk-container-id-1 label.sk-toggleable__label {cursor: pointer;display: block;width: 100%;margin-bottom: 0;padding: 0.3em;box-sizing: border-box;text-align: center;}#sk-container-id-1 label.sk-toggleable__label-arrow:before {content: \"▸\";float: left;margin-right: 0.25em;color: #696969;}#sk-container-id-1 label.sk-toggleable__label-arrow:hover:before {color: black;}#sk-container-id-1 div.sk-estimator:hover label.sk-toggleable__label-arrow:before {color: black;}#sk-container-id-1 div.sk-toggleable__content {max-height: 0;max-width: 0;overflow: hidden;text-align: left;background-color: #f0f8ff;}#sk-container-id-1 div.sk-toggleable__content pre {margin: 0.2em;color: black;border-radius: 0.25em;background-color: #f0f8ff;}#sk-container-id-1 input.sk-toggleable__control:checked~div.sk-toggleable__content {max-height: 200px;max-width: 100%;overflow: auto;}#sk-container-id-1 input.sk-toggleable__control:checked~label.sk-toggleable__label-arrow:before {content: \"▾\";}#sk-container-id-1 div.sk-estimator input.sk-toggleable__control:checked~label.sk-toggleable__label {background-color: #d4ebff;}#sk-container-id-1 div.sk-label input.sk-toggleable__control:checked~label.sk-toggleable__label {background-color: #d4ebff;}#sk-container-id-1 input.sk-hidden--visually {border: 0;clip: rect(1px 1px 1px 1px);clip: rect(1px, 1px, 1px, 1px);height: 1px;margin: -1px;overflow: hidden;padding: 0;position: absolute;width: 1px;}#sk-container-id-1 div.sk-estimator {font-family: monospace;background-color: #f0f8ff;border: 1px dotted black;border-radius: 0.25em;box-sizing: border-box;margin-bottom: 0.5em;}#sk-container-id-1 div.sk-estimator:hover {background-color: #d4ebff;}#sk-container-id-1 div.sk-parallel-item::after {content: \"\";width: 100%;border-bottom: 1px solid gray;flex-grow: 1;}#sk-container-id-1 div.sk-label:hover label.sk-toggleable__label {background-color: #d4ebff;}#sk-container-id-1 div.sk-serial::before {content: \"\";position: absolute;border-left: 1px solid gray;box-sizing: border-box;top: 0;bottom: 0;left: 50%;z-index: 0;}#sk-container-id-1 div.sk-serial {display: flex;flex-direction: column;align-items: center;background-color: white;padding-right: 0.2em;padding-left: 0.2em;position: relative;}#sk-container-id-1 div.sk-item {position: relative;z-index: 1;}#sk-container-id-1 div.sk-parallel {display: flex;align-items: stretch;justify-content: center;background-color: white;position: relative;}#sk-container-id-1 div.sk-item::before, #sk-container-id-1 div.sk-parallel-item::before {content: \"\";position: absolute;border-left: 1px solid gray;box-sizing: border-box;top: 0;bottom: 0;left: 50%;z-index: -1;}#sk-container-id-1 div.sk-parallel-item {display: flex;flex-direction: column;z-index: 1;position: relative;background-color: white;}#sk-container-id-1 div.sk-parallel-item:first-child::after {align-self: flex-end;width: 50%;}#sk-container-id-1 div.sk-parallel-item:last-child::after {align-self: flex-start;width: 50%;}#sk-container-id-1 div.sk-parallel-item:only-child::after {width: 0;}#sk-container-id-1 div.sk-dashed-wrapped {border: 1px dashed gray;margin: 0 0.4em 0.5em 0.4em;box-sizing: border-box;padding-bottom: 0.4em;background-color: white;}#sk-container-id-1 div.sk-label label {font-family: monospace;font-weight: bold;display: inline-block;line-height: 1.2em;}#sk-container-id-1 div.sk-label-container {text-align: center;}#sk-container-id-1 div.sk-container {/* jupyter's `normalize.less` sets `[hidden] { display: none; }` but bootstrap.min.css set `[hidden] { display: none !important; }` so we also need the `!important` here to be able to override the default hidden behavior on the sphinx rendered scikit-learn.org. See: https://github.com/scikit-learn/scikit-learn/issues/21755 */display: inline-block !important;position: relative;}#sk-container-id-1 div.sk-text-repr-fallback {display: none;}</style><div id=\"sk-container-id-1\" class=\"sk-top-container\"><div class=\"sk-text-repr-fallback\"><pre>KNeighborsClassifier()</pre><b>In a Jupyter environment, please rerun this cell to show the HTML representation or trust the notebook. <br />On GitHub, the HTML representation is unable to render, please try loading this page with nbviewer.org.</b></div><div class=\"sk-container\" hidden><div class=\"sk-item\"><div class=\"sk-estimator sk-toggleable\"><input class=\"sk-toggleable__control sk-hidden--visually\" id=\"sk-estimator-id-1\" type=\"checkbox\" checked><label for=\"sk-estimator-id-1\" class=\"sk-toggleable__label sk-toggleable__label-arrow\">KNeighborsClassifier</label><div class=\"sk-toggleable__content\"><pre>KNeighborsClassifier()</pre></div></div></div></div></div>"
      ],
      "text/plain": [
       "KNeighborsClassifier()"
      ]
     },
     "execution_count": 21,
     "metadata": {},
     "output_type": "execute_result"
    }
   ],
   "source": [
    "# kNN with best hyperparameters\n",
    "knn_classifier = KNeighborsClassifier(n_neighbors = 5, \n",
    "                                      p = 2)\n",
    "\n",
    "# Fit the knn classifier with the entire training data\n",
    "knn_classifier.fit(X_train, y_train)"
   ]
  },
  {
   "attachments": {},
   "cell_type": "markdown",
   "metadata": {
    "id": "exoN7abM4BRU"
   },
   "source": [
    "### Model Evaluation for kNN classifier"
   ]
  },
  {
   "cell_type": "code",
   "execution_count": null,
   "metadata": {
    "colab": {
     "base_uri": "https://localhost:8080/"
    },
    "id": "6VrzHzOo0Nc2",
    "outputId": "0f89f08c-38e0-4e4c-d142-10a5a0285004"
   },
   "outputs": [
    {
     "name": "stdout",
     "output_type": "stream",
     "text": [
      "k-Nearest Neighbour classifier accuracy: 0.7705\n",
      "k-Nearest Neighbour classifier recall: 0.7705\n",
      "k-Nearest Neighbour classifier precision 0.7598\n",
      "k-Nearest Neighbour classifier F1-score: 0.7545\n"
     ]
    }
   ],
   "source": [
    "# Compute the predicted value for test set using knn \n",
    "knn_pred = knn_classifier.predict(X_test)\n",
    "\n",
    "# Accuracy\n",
    "knn_accuracy = accuracy_score(y_test, knn_pred)\n",
    "\n",
    "# Precision, Recall and F1-score\n",
    "knn_precision, knn_recall, knn_f1, _ = precision_recall_fscore_support(y_test, knn_pred, average='weighted')\n",
    "\n",
    "# Print result\n",
    "print(\"k-Nearest Neighbour classifier accuracy: {:.4f}\".format(knn_accuracy))\n",
    "print(\"k-Nearest Neighbour classifier recall: {:.4f}\".format(knn_recall))\n",
    "print(\"k-Nearest Neighbour classifier precision {:.4f}\".format(knn_precision))\n",
    "print(\"k-Nearest Neighbour classifier F1-score: {:.4f}\".format(knn_f1))"
   ]
  },
  {
   "cell_type": "code",
   "execution_count": null,
   "metadata": {
    "colab": {
     "base_uri": "https://localhost:8080/"
    },
    "id": "u1txxusm--Rc",
    "outputId": "17726b6f-7e24-42e6-c821-246c5ce84daf"
   },
   "outputs": [
    {
     "name": "stdout",
     "output_type": "stream",
     "text": [
      "              precision    recall  f1-score   support\n",
      "\n",
      "           0       0.58      0.74      0.65       976\n",
      "           1       0.57      0.86      0.69      1023\n",
      "           2       0.88      0.93      0.90      1003\n",
      "           3       0.91      0.97      0.94      1035\n",
      "           4       0.87      0.93      0.90       903\n",
      "           5       0.83      0.83      0.83       928\n",
      "           6       0.90      0.96      0.93       959\n",
      "           7       0.92      0.97      0.94      1098\n",
      "           8       0.93      0.90      0.92       941\n",
      "           9       0.87      0.95      0.91       929\n",
      "          10       0.84      0.76      0.80       170\n",
      "          11       0.89      0.26      0.41       118\n",
      "          12       0.68      0.82      0.74       316\n",
      "          13       0.84      0.41      0.55       128\n",
      "          14       0.96      0.64      0.77       162\n",
      "          15       0.76      0.70      0.73       261\n",
      "          16       0.88      0.50      0.64        60\n",
      "          17       0.74      0.66      0.70        74\n",
      "          18       0.50      0.41      0.45       350\n",
      "          19       0.69      0.59      0.64        95\n",
      "          20       0.56      0.61      0.58        71\n",
      "          21       0.68      0.89      0.77       141\n",
      "          22       0.76      0.81      0.79       273\n",
      "          23       0.80      0.92      0.85       249\n",
      "          24       0.54      0.53      0.54       741\n",
      "          25       0.73      0.76      0.75       277\n",
      "          26       0.88      0.31      0.46        67\n",
      "          27       0.85      0.47      0.60       160\n",
      "          28       0.71      0.79      0.75       624\n",
      "          29       0.79      0.90      0.84       249\n",
      "          30       0.73      0.83      0.77       342\n",
      "          31       0.48      0.52      0.50       126\n",
      "          32       0.71      0.62      0.66       125\n",
      "          33       0.59      0.54      0.56        85\n",
      "          34       0.67      0.48      0.56       141\n",
      "          35       0.38      0.13      0.19        62\n",
      "          36       0.79      0.70      0.74       278\n",
      "          37       0.87      0.66      0.75       170\n",
      "          38       0.24      0.10      0.14        90\n",
      "          39       0.94      0.89      0.91       297\n",
      "          40       0.90      0.95      0.93       709\n",
      "          41       0.25      0.09      0.13        57\n",
      "          42       0.71      0.05      0.10        97\n",
      "          43       0.86      0.84      0.85       269\n",
      "          44       0.62      0.26      0.37        76\n",
      "          45       0.62      0.55      0.58        60\n",
      "          46       0.60      0.30      0.40        83\n",
      "          47       0.32      0.18      0.23       421\n",
      "          48       0.21      0.09      0.13        75\n",
      "          49       0.89      0.87      0.88       332\n",
      "          50       0.00      0.00      0.00        79\n",
      "          51       0.35      0.22      0.27        65\n",
      "          52       0.50      0.03      0.06        68\n",
      "          53       0.81      0.93      0.86       411\n",
      "          54       0.22      0.03      0.05        79\n",
      "          55       0.84      0.76      0.80       502\n",
      "          56       0.37      0.12      0.18        89\n",
      "          57       0.43      0.41      0.42        88\n",
      "          58       0.67      0.59      0.63        93\n",
      "          59       0.69      0.51      0.59       107\n",
      "          60       0.29      0.13      0.18        60\n",
      "          61       0.42      0.23      0.30        83\n",
      "\n",
      "    accuracy                           0.77     20000\n",
      "   macro avg       0.67      0.57      0.59     20000\n",
      "weighted avg       0.76      0.77      0.75     20000\n",
      "\n"
     ]
    }
   ],
   "source": [
    "# Classificaiton report\n",
    "print(classification_report(y_test, knn_pred))"
   ]
  },
  {
   "attachments": {},
   "cell_type": "markdown",
   "metadata": {
    "id": "be1SIpeO-0ow"
   },
   "source": [
    "## Random Forest Classifier"
   ]
  },
  {
   "attachments": {},
   "cell_type": "markdown",
   "metadata": {
    "id": "e_ZHojKC-7Jq"
   },
   "source": [
    "### Hyperparameter Tuning for Random Forest (Long runtime: **Approximately 12.74 hours**)"
   ]
  },
  {
   "cell_type": "code",
   "execution_count": null,
   "metadata": {
    "id": "st4vlAVg_CjE"
   },
   "outputs": [],
   "source": [
    "\"\"\"Long runtime\"\"\"\n",
    "\n",
    "## Hyperparameter tuning for kNN using Grid Search CV\n",
    "def RF_GridSearchCV(X_train, y_train):\n",
    "\n",
    "    # Set up parameters grid to search \n",
    "    param_grid = {\"n_estimators\": [100, 200],\n",
    "                  \"max_features\": [\"sqrt\", \"log2\"],\n",
    "                  \"max_depth\": [5, 10]\n",
    "                  }\n",
    "\n",
    "    ## Setting the 5 fold stratified cross-validation\n",
    "    cvKFold=StratifiedKFold(n_splits=5, shuffle=True, random_state=0)\n",
    "\n",
    "    # Instantiate Random Forest model\n",
    "    rf = RandomForestClassifier(random_state = 0, criterion = \"entropy\", class_weight = \"balanced\")\n",
    "    grid_search = GridSearchCV(rf, param_grid, scoring='f1_weighted', cv=cvKFold, verbose=3)\n",
    "\n",
    "    # Record the starting time\n",
    "    start_time = time.time()\n",
    "\n",
    "    # Fit the training data\n",
    "    grid_search.fit(X_train, y_train)\n",
    "\n",
    "    # Calculate the training time\n",
    "    time_elapsed = time.time() - start_time\n",
    "\n",
    "    best_params = grid_search.best_params_\n",
    "    best_score = grid_search.best_score_\n",
    "\n",
    "    print(\"Best parameters found: \", best_params)\n",
    "    print(\"Best accuracy found: \", best_score)\n",
    "    print(\"Time elapsed: {:.2f} seconds\".format(time_elapsed))\n",
    "\n",
    "    return best_params"
   ]
  },
  {
   "cell_type": "code",
   "execution_count": null,
   "metadata": {
    "colab": {
     "base_uri": "https://localhost:8080/"
    },
    "id": "uGDPkAhnAcjC",
    "outputId": "8a0132ea-0fca-49f6-aa46-ac6d5788d507"
   },
   "outputs": [
    {
     "name": "stdout",
     "output_type": "stream",
     "text": [
      "Fitting 5 folds for each of 8 candidates, totalling 40 fits\n",
      "[CV 1/5] END max_depth=5, max_features=sqrt, n_estimators=100;, score=0.472 total time=12.8min\n",
      "[CV 2/5] END max_depth=5, max_features=sqrt, n_estimators=100;, score=0.480 total time=12.5min\n",
      "[CV 3/5] END max_depth=5, max_features=sqrt, n_estimators=100;, score=0.475 total time=12.5min\n",
      "[CV 4/5] END max_depth=5, max_features=sqrt, n_estimators=100;, score=0.475 total time=12.5min\n",
      "[CV 5/5] END max_depth=5, max_features=sqrt, n_estimators=100;, score=0.478 total time=12.4min\n",
      "[CV 1/5] END max_depth=5, max_features=sqrt, n_estimators=200;, score=0.485 total time=24.4min\n",
      "[CV 2/5] END max_depth=5, max_features=sqrt, n_estimators=200;, score=0.488 total time=23.9min\n",
      "[CV 3/5] END max_depth=5, max_features=sqrt, n_estimators=200;, score=0.490 total time=23.6min\n",
      "[CV 4/5] END max_depth=5, max_features=sqrt, n_estimators=200;, score=0.489 total time=25.1min\n",
      "[CV 5/5] END max_depth=5, max_features=sqrt, n_estimators=200;, score=0.486 total time=23.4min\n",
      "[CV 1/5] END max_depth=5, max_features=log2, n_estimators=100;, score=0.465 total time= 5.8min\n",
      "[CV 2/5] END max_depth=5, max_features=log2, n_estimators=100;, score=0.472 total time= 5.8min\n",
      "[CV 3/5] END max_depth=5, max_features=log2, n_estimators=100;, score=0.471 total time= 5.8min\n",
      "[CV 4/5] END max_depth=5, max_features=log2, n_estimators=100;, score=0.470 total time= 5.9min\n",
      "[CV 5/5] END max_depth=5, max_features=log2, n_estimators=100;, score=0.468 total time= 5.9min\n",
      "[CV 1/5] END max_depth=5, max_features=log2, n_estimators=200;, score=0.486 total time=11.8min\n",
      "[CV 2/5] END max_depth=5, max_features=log2, n_estimators=200;, score=0.493 total time=12.1min\n",
      "[CV 3/5] END max_depth=5, max_features=log2, n_estimators=200;, score=0.489 total time=12.0min\n",
      "[CV 4/5] END max_depth=5, max_features=log2, n_estimators=200;, score=0.488 total time=11.9min\n",
      "[CV 5/5] END max_depth=5, max_features=log2, n_estimators=200;, score=0.487 total time=12.1min\n",
      "[CV 1/5] END max_depth=10, max_features=sqrt, n_estimators=100;, score=0.622 total time=21.4min\n",
      "[CV 2/5] END max_depth=10, max_features=sqrt, n_estimators=100;, score=0.622 total time=23.0min\n",
      "[CV 3/5] END max_depth=10, max_features=sqrt, n_estimators=100;, score=0.623 total time=21.9min\n",
      "[CV 4/5] END max_depth=10, max_features=sqrt, n_estimators=100;, score=0.622 total time=18.9min\n",
      "[CV 5/5] END max_depth=10, max_features=sqrt, n_estimators=100;, score=0.621 total time=20.4min\n",
      "[CV 1/5] END max_depth=10, max_features=sqrt, n_estimators=200;, score=0.634 total time=39.3min\n",
      "[CV 2/5] END max_depth=10, max_features=sqrt, n_estimators=200;, score=0.632 total time=38.1min\n",
      "[CV 3/5] END max_depth=10, max_features=sqrt, n_estimators=200;, score=0.630 total time=37.7min\n",
      "[CV 4/5] END max_depth=10, max_features=sqrt, n_estimators=200;, score=0.632 total time=38.3min\n",
      "[CV 5/5] END max_depth=10, max_features=sqrt, n_estimators=200;, score=0.629 total time=38.9min\n",
      "[CV 1/5] END max_depth=10, max_features=log2, n_estimators=100;, score=0.593 total time= 9.9min\n",
      "[CV 2/5] END max_depth=10, max_features=log2, n_estimators=100;, score=0.596 total time= 9.9min\n",
      "[CV 3/5] END max_depth=10, max_features=log2, n_estimators=100;, score=0.602 total time= 9.9min\n",
      "[CV 4/5] END max_depth=10, max_features=log2, n_estimators=100;, score=0.595 total time= 9.9min\n",
      "[CV 5/5] END max_depth=10, max_features=log2, n_estimators=100;, score=0.595 total time= 9.9min\n",
      "[CV 1/5] END max_depth=10, max_features=log2, n_estimators=200;, score=0.617 total time=19.7min\n",
      "[CV 2/5] END max_depth=10, max_features=log2, n_estimators=200;, score=0.616 total time=19.7min\n",
      "[CV 3/5] END max_depth=10, max_features=log2, n_estimators=200;, score=0.614 total time=19.5min\n",
      "[CV 4/5] END max_depth=10, max_features=log2, n_estimators=200;, score=0.612 total time=19.6min\n",
      "[CV 5/5] END max_depth=10, max_features=log2, n_estimators=200;, score=0.614 total time=19.6min\n",
      "Best parameters found:  {'max_depth': 10, 'max_features': 'sqrt', 'n_estimators': 200}\n",
      "Best accuracy found:  0.6311984071482942\n",
      "Time elapsed: 45863.90 seconds\n"
     ]
    }
   ],
   "source": [
    "\"\"\"Long runtime\"\"\"\n",
    "\n",
    "# Perform Grid Search CV for Random Forest classifier\n",
    "rf_best_params = RF_GridSearchCV(X_train, y_train)"
   ]
  },
  {
   "cell_type": "code",
   "execution_count": null,
   "metadata": {
    "colab": {
     "base_uri": "https://localhost:8080/"
    },
    "id": "85rwQF1rAlKh",
    "outputId": "8d45fd95-25f4-4b98-d803-1fec397937f5"
   },
   "outputs": [
    {
     "name": "stdout",
     "output_type": "stream",
     "text": [
      "Best parameters for Random Forest: {'max_depth': 10, 'max_features': 'sqrt', 'n_estimators': 200}\n"
     ]
    }
   ],
   "source": [
    "\"\"\"Do not run - long runtime\"\"\"\n",
    "\"\"\"Do not run this code chunk unless the hyperparameter process code chunk has been executed in its entirety \"\"\"\n",
    "\n",
    "# Print out the best parameters for random forest classifier\n",
    "print(\"Best parameters for Random Forest:\", rf_best_params)"
   ]
  },
  {
   "attachments": {},
   "cell_type": "markdown",
   "metadata": {
    "id": "-RT2vYdAA2zY"
   },
   "source": [
    "### Build Random Forest classifier using best hyperparameters (**Long runtime: Approximately 1 hour**)"
   ]
  },
  {
   "cell_type": "code",
   "execution_count": null,
   "metadata": {
    "colab": {
     "base_uri": "https://localhost:8080/",
     "height": 92
    },
    "id": "en4HmgtABPJS",
    "outputId": "e3c5dbc2-2830-43dd-ba06-c4d28e295308"
   },
   "outputs": [
    {
     "data": {
      "text/html": [
       "<style>#sk-container-id-1 {color: black;background-color: white;}#sk-container-id-1 pre{padding: 0;}#sk-container-id-1 div.sk-toggleable {background-color: white;}#sk-container-id-1 label.sk-toggleable__label {cursor: pointer;display: block;width: 100%;margin-bottom: 0;padding: 0.3em;box-sizing: border-box;text-align: center;}#sk-container-id-1 label.sk-toggleable__label-arrow:before {content: \"▸\";float: left;margin-right: 0.25em;color: #696969;}#sk-container-id-1 label.sk-toggleable__label-arrow:hover:before {color: black;}#sk-container-id-1 div.sk-estimator:hover label.sk-toggleable__label-arrow:before {color: black;}#sk-container-id-1 div.sk-toggleable__content {max-height: 0;max-width: 0;overflow: hidden;text-align: left;background-color: #f0f8ff;}#sk-container-id-1 div.sk-toggleable__content pre {margin: 0.2em;color: black;border-radius: 0.25em;background-color: #f0f8ff;}#sk-container-id-1 input.sk-toggleable__control:checked~div.sk-toggleable__content {max-height: 200px;max-width: 100%;overflow: auto;}#sk-container-id-1 input.sk-toggleable__control:checked~label.sk-toggleable__label-arrow:before {content: \"▾\";}#sk-container-id-1 div.sk-estimator input.sk-toggleable__control:checked~label.sk-toggleable__label {background-color: #d4ebff;}#sk-container-id-1 div.sk-label input.sk-toggleable__control:checked~label.sk-toggleable__label {background-color: #d4ebff;}#sk-container-id-1 input.sk-hidden--visually {border: 0;clip: rect(1px 1px 1px 1px);clip: rect(1px, 1px, 1px, 1px);height: 1px;margin: -1px;overflow: hidden;padding: 0;position: absolute;width: 1px;}#sk-container-id-1 div.sk-estimator {font-family: monospace;background-color: #f0f8ff;border: 1px dotted black;border-radius: 0.25em;box-sizing: border-box;margin-bottom: 0.5em;}#sk-container-id-1 div.sk-estimator:hover {background-color: #d4ebff;}#sk-container-id-1 div.sk-parallel-item::after {content: \"\";width: 100%;border-bottom: 1px solid gray;flex-grow: 1;}#sk-container-id-1 div.sk-label:hover label.sk-toggleable__label {background-color: #d4ebff;}#sk-container-id-1 div.sk-serial::before {content: \"\";position: absolute;border-left: 1px solid gray;box-sizing: border-box;top: 0;bottom: 0;left: 50%;z-index: 0;}#sk-container-id-1 div.sk-serial {display: flex;flex-direction: column;align-items: center;background-color: white;padding-right: 0.2em;padding-left: 0.2em;position: relative;}#sk-container-id-1 div.sk-item {position: relative;z-index: 1;}#sk-container-id-1 div.sk-parallel {display: flex;align-items: stretch;justify-content: center;background-color: white;position: relative;}#sk-container-id-1 div.sk-item::before, #sk-container-id-1 div.sk-parallel-item::before {content: \"\";position: absolute;border-left: 1px solid gray;box-sizing: border-box;top: 0;bottom: 0;left: 50%;z-index: -1;}#sk-container-id-1 div.sk-parallel-item {display: flex;flex-direction: column;z-index: 1;position: relative;background-color: white;}#sk-container-id-1 div.sk-parallel-item:first-child::after {align-self: flex-end;width: 50%;}#sk-container-id-1 div.sk-parallel-item:last-child::after {align-self: flex-start;width: 50%;}#sk-container-id-1 div.sk-parallel-item:only-child::after {width: 0;}#sk-container-id-1 div.sk-dashed-wrapped {border: 1px dashed gray;margin: 0 0.4em 0.5em 0.4em;box-sizing: border-box;padding-bottom: 0.4em;background-color: white;}#sk-container-id-1 div.sk-label label {font-family: monospace;font-weight: bold;display: inline-block;line-height: 1.2em;}#sk-container-id-1 div.sk-label-container {text-align: center;}#sk-container-id-1 div.sk-container {/* jupyter's `normalize.less` sets `[hidden] { display: none; }` but bootstrap.min.css set `[hidden] { display: none !important; }` so we also need the `!important` here to be able to override the default hidden behavior on the sphinx rendered scikit-learn.org. See: https://github.com/scikit-learn/scikit-learn/issues/21755 */display: inline-block !important;position: relative;}#sk-container-id-1 div.sk-text-repr-fallback {display: none;}</style><div id=\"sk-container-id-1\" class=\"sk-top-container\"><div class=\"sk-text-repr-fallback\"><pre>RandomForestClassifier(class_weight=&#x27;balanced&#x27;, criterion=&#x27;entropy&#x27;,\n",
       "                       max_depth=10, n_estimators=200, random_state=0)</pre><b>In a Jupyter environment, please rerun this cell to show the HTML representation or trust the notebook. <br />On GitHub, the HTML representation is unable to render, please try loading this page with nbviewer.org.</b></div><div class=\"sk-container\" hidden><div class=\"sk-item\"><div class=\"sk-estimator sk-toggleable\"><input class=\"sk-toggleable__control sk-hidden--visually\" id=\"sk-estimator-id-1\" type=\"checkbox\" checked><label for=\"sk-estimator-id-1\" class=\"sk-toggleable__label sk-toggleable__label-arrow\">RandomForestClassifier</label><div class=\"sk-toggleable__content\"><pre>RandomForestClassifier(class_weight=&#x27;balanced&#x27;, criterion=&#x27;entropy&#x27;,\n",
       "                       max_depth=10, n_estimators=200, random_state=0)</pre></div></div></div></div></div>"
      ],
      "text/plain": [
       "RandomForestClassifier(class_weight='balanced', criterion='entropy',\n",
       "                       max_depth=10, n_estimators=200, random_state=0)"
      ]
     },
     "execution_count": 7,
     "metadata": {},
     "output_type": "execute_result"
    }
   ],
   "source": [
    "\"\"\"Long runtime: Approximately 1 hour\"\"\"\n",
    "\n",
    "# Build Random Forest classifier with best hyperparameters\n",
    "rf_classifier = RandomForestClassifier(n_estimators = 200, \n",
    "                        max_depth = 10,\n",
    "                        max_features = \"sqrt\",\n",
    "                        random_state = 0,\n",
    "                        class_weight = \"balanced\", \n",
    "                        criterion = \"entropy\")\n",
    "\n",
    "# Fit the Random Forest classifier with training data\n",
    "rf_classifier.fit(X_train, y_train)"
   ]
  },
  {
   "attachments": {},
   "cell_type": "markdown",
   "metadata": {
    "id": "ZABevCDP9Nyh"
   },
   "source": [
    "### Model evaluation for Random Forest Classifier"
   ]
  },
  {
   "cell_type": "code",
   "execution_count": null,
   "metadata": {
    "colab": {
     "base_uri": "https://localhost:8080/"
    },
    "id": "gle0LJxbi3RV",
    "outputId": "41ab1755-a5be-4461-e9ec-e96cc7ef02fe"
   },
   "outputs": [
    {
     "name": "stdout",
     "output_type": "stream",
     "text": [
      "Random Forest classifier accuracy: 0.6142\n",
      "Random Forest classifier recall: 0.6142\n",
      "Random Forest classifier precision 0.6854\n",
      "Random Forest classifier F1-score: 0.6306\n"
     ]
    }
   ],
   "source": [
    "# Compute the predicted value of y_pred using random forest classifier\n",
    "rf_pred = rf_classifier.predict(X_test)\n",
    "\n",
    "# Accuracy\n",
    "rf_accuracy = accuracy_score(y_test, rf_pred)\n",
    "\n",
    "# Precision, Recall and F1-Scre\n",
    "rf_precision, rf_recall, rf_f1, _ = precision_recall_fscore_support(y_test, rf_pred, average='weighted')\n",
    "\n",
    "# Print result\n",
    "print(\"Random Forest classifier accuracy: {:.4f}\".format(rf_accuracy))\n",
    "print(\"Random Forest classifier recall: {:.4f}\".format(rf_recall))\n",
    "print(\"Random Forest classifier precision {:.4f}\".format(rf_precision))\n",
    "print(\"Random Forest classifier F1-score: {:.4f}\".format(rf_f1))"
   ]
  },
  {
   "cell_type": "code",
   "execution_count": null,
   "metadata": {
    "colab": {
     "base_uri": "https://localhost:8080/"
    },
    "id": "9WfDk_FpEaqV",
    "outputId": "c448757e-80cc-4b7e-f9c2-ed19c2e2acab"
   },
   "outputs": [
    {
     "name": "stdout",
     "output_type": "stream",
     "text": [
      "              precision    recall  f1-score   support\n",
      "\n",
      "           0       0.67      0.58      0.62       976\n",
      "           1       0.65      0.51      0.57      1023\n",
      "           2       0.89      0.64      0.74      1003\n",
      "           3       0.83      0.86      0.84      1035\n",
      "           4       0.90      0.61      0.73       903\n",
      "           5       0.86      0.55      0.67       928\n",
      "           6       0.94      0.75      0.83       959\n",
      "           7       0.86      0.89      0.88      1098\n",
      "           8       0.91      0.61      0.73       941\n",
      "           9       0.80      0.83      0.81       929\n",
      "          10       0.47      0.77      0.59       170\n",
      "          11       0.35      0.58      0.44       118\n",
      "          12       0.66      0.35      0.46       316\n",
      "          13       0.49      0.55      0.52       128\n",
      "          14       0.57      0.64      0.61       162\n",
      "          15       0.68      0.31      0.42       261\n",
      "          16       0.34      0.73      0.46        60\n",
      "          17       0.35      0.78      0.49        74\n",
      "          18       0.38      0.39      0.39       350\n",
      "          19       0.42      0.54      0.47        95\n",
      "          20       0.38      0.65      0.48        71\n",
      "          21       0.56      0.87      0.68       141\n",
      "          22       0.51      0.30      0.38       273\n",
      "          23       0.65      0.66      0.65       249\n",
      "          24       0.56      0.31      0.40       741\n",
      "          25       0.60      0.56      0.58       277\n",
      "          26       0.37      0.64      0.47        67\n",
      "          27       0.62      0.46      0.53       160\n",
      "          28       0.64      0.38      0.48       624\n",
      "          29       0.59      0.88      0.70       249\n",
      "          30       0.70      0.44      0.54       342\n",
      "          31       0.37      0.45      0.41       126\n",
      "          32       0.52      0.58      0.55       125\n",
      "          33       0.43      0.58      0.49        85\n",
      "          34       0.38      0.61      0.47       141\n",
      "          35       0.18      0.55      0.27        62\n",
      "          36       0.65      0.54      0.59       278\n",
      "          37       0.38      0.79      0.51       170\n",
      "          38       0.21      0.68      0.32        90\n",
      "          39       0.66      0.78      0.72       297\n",
      "          40       0.85      0.73      0.78       709\n",
      "          41       0.15      0.47      0.23        57\n",
      "          42       0.24      0.09      0.13        97\n",
      "          43       0.71      0.75      0.73       269\n",
      "          44       0.31      0.36      0.33        76\n",
      "          45       0.27      0.65      0.38        60\n",
      "          46       0.38      0.25      0.30        83\n",
      "          47       0.32      0.43      0.37       421\n",
      "          48       0.20      0.65      0.31        75\n",
      "          49       0.71      0.71      0.71       332\n",
      "          50       0.07      0.44      0.13        79\n",
      "          51       0.21      0.51      0.30        65\n",
      "          52       0.19      0.22      0.20        68\n",
      "          53       0.64      0.81      0.71       411\n",
      "          54       0.09      0.43      0.15        79\n",
      "          55       0.71      0.57      0.64       502\n",
      "          56       0.26      0.55      0.35        89\n",
      "          57       0.36      0.60      0.45        88\n",
      "          58       0.47      0.78      0.59        93\n",
      "          59       0.42      0.36      0.39       107\n",
      "          60       0.19      0.22      0.20        60\n",
      "          61       0.24      0.51      0.32        83\n",
      "\n",
      "    accuracy                           0.61     20000\n",
      "   macro avg       0.50      0.57      0.50     20000\n",
      "weighted avg       0.69      0.61      0.63     20000\n",
      "\n"
     ]
    }
   ],
   "source": [
    "# Classificaiton report\n",
    "print(classification_report(y_test, rf_pred))"
   ]
  },
  {
   "attachments": {},
   "cell_type": "markdown",
   "metadata": {
    "id": "BoNKMcA3qrHL"
   },
   "source": [
    "## Multi Layer Perceptron"
   ]
  },
  {
   "attachments": {},
   "cell_type": "markdown",
   "metadata": {
    "id": "UwP5FbDrxbUF"
   },
   "source": [
    "### Hyperparameter Tuning for Multi Layer Perceptron (**Approximately 7 minutes**)"
   ]
  },
  {
   "cell_type": "code",
   "execution_count": null,
   "metadata": {
    "id": "VMSG0T-J1A1g"
   },
   "outputs": [],
   "source": [
    "\"\"\"long runtime\"\"\"\n",
    "\n",
    "def model_builder(hp):\n",
    "  # Parameter\n",
    "  input_size = X_train.shape[1]\n",
    "  num_classes = len(Counter(y_train))\n",
    "\n",
    "  # Define hyperparameters to search\n",
    "  hp_activation = hp.Choice('activation', values=['relu', 'tanh'])\n",
    "  hp_learning_rate = hp.Choice('learning_rate', values=[1e-2, 1e-3, 1e-4])\n",
    "  hp_dropout_rate = hp.Choice('dropout_rate', values=[0.2, 0.5])\n",
    "\n",
    "  # Define optimizer\n",
    "  optimizer = AdamW(learning_rate=hp_learning_rate, weight_decay=0.001)\n",
    "\n",
    "  # Define the loss function\n",
    "  loss = SparseCategoricalCrossentropy()\n",
    "\n",
    "  # Define the model\n",
    "  model = Sequential()\n",
    "  # first layer\n",
    "  model.add(Dense(512, input_shape=(input_size,)))\n",
    "  model.add(BatchNormalization())\n",
    "  model.add(Activation(activation = hp_activation))\n",
    "  model.add(Dropout(rate = hp_dropout_rate))\n",
    "  # second layer\n",
    "  model.add(Dense(256))\n",
    "  model.add(BatchNormalization())\n",
    "  model.add(Activation(activation = hp_activation))\n",
    "  model.add(Dropout(rate = hp_dropout_rate))\n",
    "  # third layer\n",
    "  model.add(Dense(256))\n",
    "  model.add(BatchNormalization())\n",
    "  model.add(Activation(activation = hp_activation))\n",
    "  model.add(Dropout(rate = hp_dropout_rate))\n",
    "  # fourth layer\n",
    "  model.add(Dense(128))\n",
    "  model.add(BatchNormalization())\n",
    "  model.add(Activation(activation = hp_activation))\n",
    "  model.add(Dropout(rate = hp_dropout_rate))\n",
    "  # output layer\n",
    "  model.add(Dense(num_classes, activation='softmax'))\n",
    "\n",
    "  # Compile model\n",
    "  model.compile(optimizer= optimizer,\n",
    "              loss= loss,\n",
    "              metrics=['accuracy'])\n",
    "  \n",
    "  return model"
   ]
  },
  {
   "cell_type": "code",
   "execution_count": null,
   "metadata": {
    "colab": {
     "base_uri": "https://localhost:8080/"
    },
    "id": "uy_qZ-cY1pko",
    "outputId": "ac025d0a-c7a4-4320-8cdf-7c03abdfe8b8"
   },
   "outputs": [
    {
     "name": "stdout",
     "output_type": "stream",
     "text": [
      "Trial 12 Complete [00h 00m 43s]\n",
      "val_accuracy: 0.7720000147819519\n",
      "\n",
      "Best val_accuracy So Far: 0.797249972820282\n",
      "Total elapsed time: 00h 06m 58s\n"
     ]
    }
   ],
   "source": [
    "\"\"\"Long runtime\"\"\"\n",
    "\n",
    "# Set up tuner\n",
    "tuner = kt.Hyperband(model_builder,\n",
    "                     objective='val_accuracy',\n",
    "                     max_epochs=30,\n",
    "                     factor=3,\n",
    "                     seed = 0,\n",
    "                     project_name='mlp_hyperparameter_tuning')\n",
    "\n",
    "# Define early stopping\n",
    "stop_early = tf.keras.callbacks.EarlyStopping(monitor='val_loss', patience=3)\n",
    "\n",
    "# Search best hyperparameters\n",
    "tuner.search(X_train, y_train, epochs=50, validation_split=0.2, callbacks=[stop_early])\n"
   ]
  },
  {
   "cell_type": "code",
   "execution_count": null,
   "metadata": {
    "colab": {
     "base_uri": "https://localhost:8080/"
    },
    "id": "YMmDKcqzKL0X",
    "outputId": "f59e5569-d866-4d40-df58-1dc7d1789439"
   },
   "outputs": [
    {
     "name": "stdout",
     "output_type": "stream",
     "text": [
      "Optimal activation funciton: relu\n",
      "optimal learning rate: 0.001\n",
      "Optimal dropout rate: 0.2\n"
     ]
    }
   ],
   "source": [
    "\"\"\"Long runtime\"\"\"\n",
    "\"\"\"Do not run this code chunk unless the hyperparameter process code chunk has been executed in its entirety \"\"\"\n",
    "\n",
    "# Print the best hyperparameters\n",
    "best_hp = tuner.get_best_hyperparameters(num_trials=1)[0]\n",
    "print(\"Optimal activation funciton: {}\".format(best_hp.get(\"activation\")))\n",
    "print(\"optimal learning rate: {}\".format(best_hp.get(\"learning_rate\")))\n",
    "print(\"Optimal dropout rate: {}\".format(best_hp.get(\"dropout_rate\")))"
   ]
  },
  {
   "attachments": {},
   "cell_type": "markdown",
   "metadata": {
    "id": "cUH8h97yyLpW"
   },
   "source": [
    "### Build Multi Layer Perceptron using best hyperparameters"
   ]
  },
  {
   "cell_type": "code",
   "execution_count": null,
   "metadata": {
    "id": "vLL7wIHANF6S"
   },
   "outputs": [],
   "source": [
    "# Parameters\n",
    "input_size = X_train.shape[1]\n",
    "num_classes = len(Counter(y_train))\n",
    "\n",
    "# Optimal parameters from hyperparameter tuning\n",
    "opt_dropout_rate = 0.2\n",
    "opt_learning_rate = 0.001\n",
    "opt_activation = 'relu'\n",
    "\n",
    "# Instantiate optimiser\n",
    "optimizer = AdamW(learning_rate=opt_learning_rate, weight_decay=0.001)\n",
    "\n",
    "# Define the loss function\n",
    "loss = SparseCategoricalCrossentropy()\n",
    "\n",
    "# Define the model using Keras\n",
    "mlp_classifier = Sequential([\n",
    "    # first layer\n",
    "    Dense(512, input_shape=(input_size,)),\n",
    "    BatchNormalization(),\n",
    "    Activation(opt_activation),\n",
    "    Dropout(opt_dropout_rate),\n",
    "    # second layer\n",
    "    Dense(256),\n",
    "    BatchNormalization(),\n",
    "    Activation(opt_activation),\n",
    "    Dropout(opt_dropout_rate),\n",
    "    # third layer\n",
    "    Dense(256),\n",
    "    BatchNormalization(),\n",
    "    Activation(opt_activation),\n",
    "    Dropout(opt_dropout_rate),\n",
    "    # fourth layer\n",
    "    Dense(128),\n",
    "    BatchNormalization(),\n",
    "    Activation(opt_activation),\n",
    "    Dropout(opt_dropout_rate),\n",
    "    # output layer\n",
    "    Dense(num_classes, activation='softmax')\n",
    "])\n",
    "\n",
    "# Compile the model\n",
    "mlp_classifier.compile(optimizer=optimizer, loss=loss, metrics=['accuracy'])"
   ]
  },
  {
   "cell_type": "code",
   "execution_count": null,
   "metadata": {
    "colab": {
     "base_uri": "https://localhost:8080/"
    },
    "id": "ZIi7QznTOZlY",
    "outputId": "cb1a8504-353a-4409-9043-bd200a554f97"
   },
   "outputs": [
    {
     "name": "stdout",
     "output_type": "stream",
     "text": [
      "X_train: (90000, 259)\n",
      "X_val: (10000, 259)\n",
      "X_test: (20000, 259)\n"
     ]
    }
   ],
   "source": [
    "# Set validation set ratio\n",
    "val_ratio = 0.1\n",
    "\n",
    "# Split the training data into training and validation set\n",
    "X_train, X_val, y_train, y_val = train_test_split(X_train, y_train, test_size=val_ratio, random_state=0)\n",
    "\n",
    "# Check the data shape for the training and validation set\n",
    "print(\"X_train:\", X_train.shape)\n",
    "print(\"X_val:\", X_val.shape)\n",
    "print(\"X_test:\", X_test.shape)"
   ]
  },
  {
   "cell_type": "code",
   "execution_count": null,
   "metadata": {
    "colab": {
     "base_uri": "https://localhost:8080/"
    },
    "id": "_7Ov7fyIqqgC",
    "outputId": "a928de93-0eec-4573-d22f-5105ebad083e"
   },
   "outputs": [
    {
     "name": "stdout",
     "output_type": "stream",
     "text": [
      "Epoch 1/30\n",
      "352/352 [==============================] - 6s 7ms/step - loss: 1.5466 - accuracy: 0.6017 - val_loss: 0.7988 - val_accuracy: 0.7571\n",
      "Epoch 2/30\n",
      "352/352 [==============================] - 2s 7ms/step - loss: 0.8663 - accuracy: 0.7319 - val_loss: 0.6261 - val_accuracy: 0.7946\n",
      "Epoch 3/30\n",
      "352/352 [==============================] - 2s 6ms/step - loss: 0.7315 - accuracy: 0.7663 - val_loss: 0.5705 - val_accuracy: 0.8076\n",
      "Epoch 4/30\n",
      "352/352 [==============================] - 2s 6ms/step - loss: 0.6592 - accuracy: 0.7834 - val_loss: 0.5357 - val_accuracy: 0.8183\n",
      "Epoch 5/30\n",
      "352/352 [==============================] - 2s 6ms/step - loss: 0.6162 - accuracy: 0.7943 - val_loss: 0.5209 - val_accuracy: 0.8254\n",
      "Epoch 6/30\n",
      "352/352 [==============================] - 2s 6ms/step - loss: 0.5781 - accuracy: 0.8032 - val_loss: 0.4986 - val_accuracy: 0.8291\n",
      "Epoch 7/30\n",
      "352/352 [==============================] - 2s 7ms/step - loss: 0.5498 - accuracy: 0.8119 - val_loss: 0.4900 - val_accuracy: 0.8323\n",
      "Epoch 8/30\n",
      "352/352 [==============================] - 2s 6ms/step - loss: 0.5269 - accuracy: 0.8177 - val_loss: 0.4885 - val_accuracy: 0.8341\n",
      "Epoch 9/30\n",
      "352/352 [==============================] - 2s 6ms/step - loss: 0.5053 - accuracy: 0.8230 - val_loss: 0.4891 - val_accuracy: 0.8342\n",
      "Epoch 10/30\n",
      "352/352 [==============================] - 2s 6ms/step - loss: 0.4928 - accuracy: 0.8261 - val_loss: 0.4812 - val_accuracy: 0.8352\n",
      "Epoch 11/30\n",
      "352/352 [==============================] - 2s 6ms/step - loss: 0.4770 - accuracy: 0.8306 - val_loss: 0.4820 - val_accuracy: 0.8340\n",
      "Epoch 12/30\n",
      "352/352 [==============================] - 2s 7ms/step - loss: 0.4634 - accuracy: 0.8334 - val_loss: 0.4783 - val_accuracy: 0.8364\n",
      "Epoch 13/30\n",
      "352/352 [==============================] - 2s 6ms/step - loss: 0.4519 - accuracy: 0.8377 - val_loss: 0.4791 - val_accuracy: 0.8369\n",
      "Epoch 14/30\n",
      "352/352 [==============================] - 2s 6ms/step - loss: 0.4439 - accuracy: 0.8399 - val_loss: 0.4775 - val_accuracy: 0.8370\n",
      "Epoch 15/30\n",
      "352/352 [==============================] - 2s 6ms/step - loss: 0.4342 - accuracy: 0.8437 - val_loss: 0.4731 - val_accuracy: 0.8360\n",
      "Epoch 16/30\n",
      "352/352 [==============================] - 2s 7ms/step - loss: 0.4250 - accuracy: 0.8451 - val_loss: 0.4782 - val_accuracy: 0.8379\n",
      "Epoch 17/30\n",
      "352/352 [==============================] - 2s 7ms/step - loss: 0.4182 - accuracy: 0.8461 - val_loss: 0.4746 - val_accuracy: 0.8377\n",
      "Epoch 18/30\n",
      "352/352 [==============================] - 2s 6ms/step - loss: 0.4103 - accuracy: 0.8492 - val_loss: 0.4798 - val_accuracy: 0.8368\n",
      "Epoch 19/30\n",
      "352/352 [==============================] - 2s 6ms/step - loss: 0.4014 - accuracy: 0.8519 - val_loss: 0.4785 - val_accuracy: 0.8373\n",
      "Epoch 20/30\n",
      "352/352 [==============================] - 2s 6ms/step - loss: 0.3993 - accuracy: 0.8521 - val_loss: 0.4726 - val_accuracy: 0.8360\n",
      "Epoch 21/30\n",
      "352/352 [==============================] - 2s 6ms/step - loss: 0.3904 - accuracy: 0.8545 - val_loss: 0.4731 - val_accuracy: 0.8382\n",
      "Epoch 22/30\n",
      "352/352 [==============================] - 2s 7ms/step - loss: 0.3846 - accuracy: 0.8556 - val_loss: 0.4757 - val_accuracy: 0.8393\n",
      "Epoch 23/30\n",
      "352/352 [==============================] - 2s 7ms/step - loss: 0.3844 - accuracy: 0.8563 - val_loss: 0.4786 - val_accuracy: 0.8417\n",
      "Epoch 24/30\n",
      "352/352 [==============================] - 2s 6ms/step - loss: 0.3754 - accuracy: 0.8597 - val_loss: 0.4824 - val_accuracy: 0.8374\n",
      "Epoch 25/30\n",
      "352/352 [==============================] - 2s 6ms/step - loss: 0.3700 - accuracy: 0.8602 - val_loss: 0.4804 - val_accuracy: 0.8390\n"
     ]
    }
   ],
   "source": [
    "# Set up random seed\n",
    "tf.random.set_seed(0)\n",
    "\n",
    "# Define the batch size and number of epochs\n",
    "batch_size = 256\n",
    "epochs = 30\n",
    "\n",
    "# Define early stopping\n",
    "early_stopping = EarlyStopping(monitor='val_loss', patience=5, restore_best_weights=True)\n",
    "\n",
    "# Train the model\n",
    "history = mlp_classifier.fit(\n",
    "    X_train, y_train,\n",
    "    batch_size=batch_size,\n",
    "    epochs=epochs,\n",
    "    validation_data=(X_val, y_val),\n",
    "    callbacks=[early_stopping]\n",
    ")"
   ]
  },
  {
   "cell_type": "code",
   "execution_count": null,
   "metadata": {
    "colab": {
     "base_uri": "https://localhost:8080/",
     "height": 472
    },
    "id": "Cvu6pKutqqd4",
    "outputId": "08759e24-a8e8-4e96-abb2-492916f8179f"
   },
   "outputs": [
    {
     "data": {
      "image/png": "[encoded data removed]",
      "text/plain": [
       "<Figure size 640x480 with 1 Axes>"
      ]
     },
     "metadata": {},
     "output_type": "display_data"
    }
   ],
   "source": [
    "# Plot train and validation loss after all epochs\n",
    "plt.figure()\n",
    "plt.plot(history.history['loss'], label=\"Train Loss\", color='blue')\n",
    "plt.plot(history.history['val_loss'], label=\"Validation Loss\", color='orange')\n",
    "plt.xlabel(\"Epoch\")\n",
    "plt.ylabel(\"Loss\")\n",
    "plt.title(\"Train and Validation Loss\")\n",
    "plt.legend()\n",
    "plt.show()"
   ]
  },
  {
   "attachments": {},
   "cell_type": "markdown",
   "metadata": {
    "id": "sxihawr0z9Yp"
   },
   "source": [
    "### Model evaluation for Multi Layer Perceptron classifier"
   ]
  },
  {
   "cell_type": "code",
   "execution_count": null,
   "metadata": {
    "colab": {
     "base_uri": "https://localhost:8080/"
    },
    "id": "1-xfxUWKqqb1",
    "outputId": "19247b86-6064-4e11-aa87-0e630cbb977b"
   },
   "outputs": [
    {
     "name": "stdout",
     "output_type": "stream",
     "text": [
      "625/625 [==============================] - 1s 1ms/step\n",
      "Test Loss: 0.5019, Test Acc: 0.8363\n",
      "Precision: 0.8228, Recall: 0.8363, F1-score: 0.8184\n"
     ]
    }
   ],
   "source": [
    "# Evaluate the model\n",
    "mlp_loss, mlp_accuracy = mlp_classifier.evaluate(X_test, y_test, verbose=0)\n",
    "\n",
    "# Calculate predictions for the test dataset\n",
    "mlp_pred = mlp_classifier.predict(X_test)\n",
    "mlp_pred = np.argmax(mlp_pred, axis=1)\n",
    "\n",
    "mlp_precision, mlp_recall, mlp_f1_score, _ = precision_recall_fscore_support(y_test, mlp_pred, average='weighted')\n",
    "\n",
    "print(f\"Test Loss: {mlp_loss:.4f}, Test Acc: {mlp_accuracy:.4f}\")\n",
    "print(f\"Precision: {mlp_precision:.4f}, Recall: {mlp_recall:.4f}, F1-score: {mlp_f1_score:.4f}\")"
   ]
  },
  {
   "cell_type": "code",
   "execution_count": null,
   "metadata": {
    "colab": {
     "base_uri": "https://localhost:8080/"
    },
    "id": "n8qrPvgeqqZq",
    "outputId": "78307220-be33-494d-a500-88329ab57b64"
   },
   "outputs": [
    {
     "name": "stdout",
     "output_type": "stream",
     "text": [
      "              precision    recall  f1-score   support\n",
      "\n",
      "           0       0.67      0.80      0.73       976\n",
      "           1       0.65      0.94      0.77      1023\n",
      "           2       0.94      0.94      0.94      1003\n",
      "           3       0.97      0.98      0.97      1035\n",
      "           4       0.92      0.97      0.94       903\n",
      "           5       0.88      0.91      0.89       928\n",
      "           6       0.96      0.96      0.96       959\n",
      "           7       0.98      0.98      0.98      1098\n",
      "           8       0.95      0.96      0.96       941\n",
      "           9       0.92      0.97      0.94       929\n",
      "          10       0.89      0.89      0.89       170\n",
      "          11       0.82      0.83      0.82       118\n",
      "          12       0.73      0.92      0.81       316\n",
      "          13       0.84      0.84      0.84       128\n",
      "          14       0.93      0.88      0.90       162\n",
      "          15       0.79      0.90      0.85       261\n",
      "          16       0.81      0.78      0.80        60\n",
      "          17       0.83      0.97      0.89        74\n",
      "          18       0.61      0.45      0.52       350\n",
      "          19       0.83      0.66      0.74        95\n",
      "          20       0.58      0.80      0.67        71\n",
      "          21       0.83      0.93      0.88       141\n",
      "          22       0.76      0.92      0.83       273\n",
      "          23       0.88      0.95      0.91       249\n",
      "          24       0.65      0.56      0.60       741\n",
      "          25       0.79      0.91      0.85       277\n",
      "          26       0.84      0.73      0.78        67\n",
      "          27       0.90      0.88      0.89       160\n",
      "          28       0.78      0.84      0.81       624\n",
      "          29       0.88      0.92      0.90       249\n",
      "          30       0.73      0.92      0.82       342\n",
      "          31       0.60      0.80      0.68       126\n",
      "          32       0.76      0.72      0.74       125\n",
      "          33       0.66      0.71      0.68        85\n",
      "          34       0.76      0.71      0.73       141\n",
      "          35       0.56      0.68      0.61        62\n",
      "          36       0.80      0.86      0.83       278\n",
      "          37       0.84      0.84      0.84       170\n",
      "          38       1.00      0.01      0.02        90\n",
      "          39       0.92      0.94      0.93       297\n",
      "          40       0.95      0.96      0.96       709\n",
      "          41       0.00      0.00      0.00        57\n",
      "          42       0.50      0.20      0.28        97\n",
      "          43       0.90      0.89      0.89       269\n",
      "          44       0.87      0.36      0.50        76\n",
      "          45       0.56      0.68      0.62        60\n",
      "          46       0.73      0.42      0.53        83\n",
      "          47       0.56      0.12      0.20       421\n",
      "          48       0.25      0.03      0.05        75\n",
      "          49       0.93      0.91      0.92       332\n",
      "          50       0.00      0.00      0.00        79\n",
      "          51       0.47      0.26      0.34        65\n",
      "          52       0.58      0.22      0.32        68\n",
      "          53       0.91      0.95      0.93       411\n",
      "          54       0.00      0.00      0.00        79\n",
      "          55       0.93      0.90      0.92       502\n",
      "          56       0.50      0.03      0.06        89\n",
      "          57       0.63      0.31      0.41        88\n",
      "          58       0.72      0.72      0.72        93\n",
      "          59       0.75      0.60      0.67       107\n",
      "          60       0.46      0.20      0.28        60\n",
      "          61       0.55      0.52      0.53        83\n",
      "\n",
      "    accuracy                           0.84     20000\n",
      "   macro avg       0.73      0.68      0.68     20000\n",
      "weighted avg       0.82      0.84      0.82     20000\n",
      "\n"
     ]
    }
   ],
   "source": [
    "# Classification report\n",
    "print(classification_report(y_test, mlp_pred))"
   ]
  },
  {
   "attachments": {},
   "cell_type": "markdown",
   "metadata": {
    "id": "Jx1rKtVGJwsY"
   },
   "source": [
    "## Imbalance classes prediction"
   ]
  },
  {
   "cell_type": "code",
   "execution_count": null,
   "metadata": {
    "id": "zvsb0MkmJ7GK"
   },
   "outputs": [],
   "source": [
    "# get classification report dictionary\n",
    "def extract_classification_report(y_true, y_pred):\n",
    "    report_dict = classification_report(y_true, y_pred, output_dict=True)\n",
    "    \n",
    "    # delete keys\n",
    "    report_dict.pop('accuracy', None)\n",
    "    report_dict.pop('macro avg', None)\n",
    "    report_dict.pop('weighted avg', None)\n",
    "    \n",
    "    return report_dict\n",
    "\n",
    "report_dict = extract_classification_report(y_test, mlp_pred)"
   ]
  },
  {
   "cell_type": "code",
   "execution_count": null,
   "metadata": {
    "colab": {
     "base_uri": "https://localhost:8080/",
     "height": 718
    },
    "id": "etptFUW_KODX",
    "outputId": "2d7cf72d-0bae-4aae-8c26-84d1ee791622"
   },
   "outputs": [
    {
     "data": {
      "image/png": "[encoded data removed]",
      "text/plain": [
       "<Figure size 1600x800 with 2 Axes>"
      ]
     },
     "metadata": {},
     "output_type": "display_data"
    }
   ],
   "source": [
    "import matplotlib.pyplot as plt\n",
    "\n",
    "def plot_report(report_dict):\n",
    "    classes = []\n",
    "    f1_scores = []\n",
    "    supports = []\n",
    "\n",
    "    for class_id, info in report_dict.items():\n",
    "        classes.append(int(class_id))\n",
    "        f1_scores.append(info['f1-score'])\n",
    "        supports.append(info['support'])\n",
    "\n",
    "    fig, ax1 = plt.subplots(figsize=(16, 8))\n",
    "\n",
    "\n",
    "    ax1.bar(classes, supports, alpha=0.5, color='navy', label='Support')\n",
    "    ax1.set_xlabel('classes')\n",
    "    ax1.set_ylabel('Support')\n",
    "\n",
    "\n",
    "    ax2 = ax1.twinx()\n",
    "    ax2.plot(classes, f1_scores, color='orange', marker='o', label='F1-Score')\n",
    "    ax2.set_ylabel('F1-Score')\n",
    "    plt.title('Support and F1-Score by Label')\n",
    "    ax1.legend(loc='upper left')\n",
    "    ax2.legend(loc='upper right')\n",
    "\n",
    "    plt.show()\n",
    "\n",
    "\n",
    "plot_report(report_dict)\n"
   ]
  },
  {
   "attachments": {},
   "cell_type": "markdown",
   "metadata": {
    "id": "MWjjbViyTRps"
   },
   "source": [
    "## Model comparison"
   ]
  },
  {
   "cell_type": "code",
   "execution_count": 3,
   "metadata": {
    "colab": {
     "base_uri": "https://localhost:8080/",
     "height": 206
    },
    "id": "gMQdB7D6qqSy",
    "outputId": "0998ad52-aad1-4150-e882-8dc4b1ecf9bb"
   },
   "outputs": [
    {
     "data": {
      "text/html": [
       "\n",
       "  <div id=\"df-79a70983-7757-4729-9cd6-e3cf234515a2\">\n",
       "    <div class=\"colab-df-container\">\n",
       "      <div>\n",
       "<style scoped>\n",
       "    .dataframe tbody tr th:only-of-type {\n",
       "        vertical-align: middle;\n",
       "    }\n",
       "\n",
       "    .dataframe tbody tr th {\n",
       "        vertical-align: top;\n",
       "    }\n",
       "\n",
       "    .dataframe thead th {\n",
       "        text-align: right;\n",
       "    }\n",
       "</style>\n",
       "<table border=\"1\" class=\"dataframe\">\n",
       "  <thead>\n",
       "    <tr style=\"text-align: right;\">\n",
       "      <th></th>\n",
       "      <th>kNN</th>\n",
       "      <th>Random Forest</th>\n",
       "      <th>Multi Layer Perceptron</th>\n",
       "    </tr>\n",
       "  </thead>\n",
       "  <tbody>\n",
       "    <tr>\n",
       "      <th>Accuracy</th>\n",
       "      <td>0.7705</td>\n",
       "      <td>0.6142</td>\n",
       "      <td>0.8363</td>\n",
       "    </tr>\n",
       "    <tr>\n",
       "      <th>Precision</th>\n",
       "      <td>0.7598</td>\n",
       "      <td>0.6854</td>\n",
       "      <td>0.8228</td>\n",
       "    </tr>\n",
       "    <tr>\n",
       "      <th>Recall</th>\n",
       "      <td>0.7705</td>\n",
       "      <td>0.6142</td>\n",
       "      <td>0.8363</td>\n",
       "    </tr>\n",
       "    <tr>\n",
       "      <th>F1-Score</th>\n",
       "      <td>0.7545</td>\n",
       "      <td>0.6306</td>\n",
       "      <td>0.8184</td>\n",
       "    </tr>\n",
       "    <tr>\n",
       "      <th>Tuning time</th>\n",
       "      <td>14896.8500</td>\n",
       "      <td>45863.9000</td>\n",
       "      <td>418.0000</td>\n",
       "    </tr>\n",
       "  </tbody>\n",
       "</table>\n",
       "</div>\n",
       "      <button class=\"colab-df-convert\" onclick=\"convertToInteractive('df-79a70983-7757-4729-9cd6-e3cf234515a2')\"\n",
       "              title=\"Convert this dataframe to an interactive table.\"\n",
       "              style=\"display:none;\">\n",
       "        \n",
       "  <svg xmlns=\"http://www.w3.org/2000/svg\" height=\"24px\"viewBox=\"0 0 24 24\"\n",
       "       width=\"24px\">\n",
       "    <path d=\"M0 0h24v24H0V0z\" fill=\"none\"/>\n",
       "    <path d=\"M18.56 5.44l.94 2.06.94-2.06 2.06-.94-2.06-.94-.94-2.06-.94 2.06-2.06.94zm-11 1L8.5 8.5l.94-2.06 2.06-.94-2.06-.94L8.5 2.5l-.94 2.06-2.06.94zm10 10l.94 2.06.94-2.06 2.06-.94-2.06-.94-.94-2.06-.94 2.06-2.06.94z\"/><path d=\"M17.41 7.96l-1.37-1.37c-.4-.4-.92-.59-1.43-.59-.52 0-1.04.2-1.43.59L10.3 9.45l-7.72 7.72c-.78.78-.78 2.05 0 2.83L4 21.41c.39.39.9.59 1.41.59.51 0 1.02-.2 1.41-.59l7.78-7.78 2.81-2.81c.8-.78.8-2.07 0-2.86zM5.41 20L4 18.59l7.72-7.72 1.47 1.35L5.41 20z\"/>\n",
       "  </svg>\n",
       "      </button>\n",
       "      \n",
       "  <style>\n",
       "    .colab-df-container {\n",
       "      display:flex;\n",
       "      flex-wrap:wrap;\n",
       "      gap: 12px;\n",
       "    }\n",
       "\n",
       "    .colab-df-convert {\n",
       "      background-color: #E8F0FE;\n",
       "      border: none;\n",
       "      border-radius: 50%;\n",
       "      cursor: pointer;\n",
       "      display: none;\n",
       "      fill: #1967D2;\n",
       "      height: 32px;\n",
       "      padding: 0 0 0 0;\n",
       "      width: 32px;\n",
       "    }\n",
       "\n",
       "    .colab-df-convert:hover {\n",
       "      background-color: #E2EBFA;\n",
       "      box-shadow: 0px 1px 2px rgba(60, 64, 67, 0.3), 0px 1px 3px 1px rgba(60, 64, 67, 0.15);\n",
       "      fill: #174EA6;\n",
       "    }\n",
       "\n",
       "    [theme=dark] .colab-df-convert {\n",
       "      background-color: #3B4455;\n",
       "      fill: #D2E3FC;\n",
       "    }\n",
       "\n",
       "    [theme=dark] .colab-df-convert:hover {\n",
       "      background-color: #434B5C;\n",
       "      box-shadow: 0px 1px 3px 1px rgba(0, 0, 0, 0.15);\n",
       "      filter: drop-shadow(0px 1px 2px rgba(0, 0, 0, 0.3));\n",
       "      fill: #FFFFFF;\n",
       "    }\n",
       "  </style>\n",
       "\n",
       "      <script>\n",
       "        const buttonEl =\n",
       "          document.querySelector('#df-79a70983-7757-4729-9cd6-e3cf234515a2 button.colab-df-convert');\n",
       "        buttonEl.style.display =\n",
       "          google.colab.kernel.accessAllowed ? 'block' : 'none';\n",
       "\n",
       "        async function convertToInteractive(key) {\n",
       "          const element = document.querySelector('#df-79a70983-7757-4729-9cd6-e3cf234515a2');\n",
       "          const dataTable =\n",
       "            await google.colab.kernel.invokeFunction('convertToInteractive',\n",
       "                                                     [key], {});\n",
       "          if (!dataTable) return;\n",
       "\n",
       "          const docLinkHtml = 'Like what you see? Visit the ' +\n",
       "            '<a target=\"_blank\" href=https://colab.research.google.com/notebooks/data_table.ipynb>data table notebook</a>'\n",
       "            + ' to learn more about interactive tables.';\n",
       "          element.innerHTML = '';\n",
       "          dataTable['output_type'] = 'display_data';\n",
       "          await google.colab.output.renderOutput(dataTable, element);\n",
       "          const docLink = document.createElement('div');\n",
       "          docLink.innerHTML = docLinkHtml;\n",
       "          element.appendChild(docLink);\n",
       "        }\n",
       "      </script>\n",
       "    </div>\n",
       "  </div>\n",
       "  "
      ],
      "text/plain": [
       "                    kNN  Random Forest  Multi Layer Perceptron\n",
       "Accuracy         0.7705         0.6142                  0.8363\n",
       "Precision        0.7598         0.6854                  0.8228\n",
       "Recall           0.7705         0.6142                  0.8363\n",
       "F1-Score         0.7545         0.6306                  0.8184\n",
       "Tuning time  14896.8500     45863.9000                418.0000"
      ]
     },
     "execution_count": 3,
     "metadata": {},
     "output_type": "execute_result"
    }
   ],
   "source": [
    "# Model performance comparison dictionary\n",
    "\"\"\"Input the value directly instead of calling each variable \n",
    "to avoid long runtime for fitting each model every time.\"\"\"\n",
    "\n",
    "# Store models performance in dictionary\n",
    "models_performance = {\"kNN\":{\"Accuracy\":0.7705, \"Precision\":0.7598, \"Recall\": 0.7705, \n",
    "                             \"F1-Score\": 0.7545, \"Tuning time\":14896.85}, \n",
    "                      \"Random Forest\":{\"Accuracy\":0.6142, \"Precision\":0.6854, \"Recall\": 0.6142, \n",
    "                                       \"F1-Score\": 0.6306, \"Tuning time\":45863.90},\n",
    "                      \"Multi Layer Perceptron\":{\"Accuracy\":0.8363, \"Precision\":0.8228, \"Recall\": 0.8363, \n",
    "                                       \"F1-Score\": 0.8184, \"Tuning time\":418.0}\n",
    "                      }\n",
    "\n",
    "# Connvert dictionary to datafrmae\n",
    "comparison_df = pd.DataFrame(models_performance)\n",
    "comparison_df"
   ]
  }
 ],
 "metadata": {
  "accelerator": "GPU",
  "colab": {
   "gpuType": "T4",
   "machine_shape": "hm",
   "provenance": []
  },
  "gpuClass": "standard",
  "kernelspec": {
   "display_name": "Python 3 (ipykernel)",
   "language": "python",
   "name": "python3"
  },
  "language_info": {
   "codemirror_mode": {
    "name": "ipython",
    "version": 3
   },
   "file_extension": ".py",
   "mimetype": "text/x-python",
   "name": "python",
   "nbconvert_exporter": "python",
   "pygments_lexer": "ipython3",
   "version": "3.10.10"
  }
 },
 "nbformat": 4,
 "nbformat_minor": 1
}
